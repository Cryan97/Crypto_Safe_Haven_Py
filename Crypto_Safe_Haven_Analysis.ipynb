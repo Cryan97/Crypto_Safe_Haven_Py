{
 "cells": [
  {
   "cell_type": "code",
   "execution_count": null,
   "metadata": {},
   "outputs": [],
   "source": [
    "#import relevant libraries\n",
    "import pandas as pd\n",
    "from pandas import DataFrame,Series\n",
    "import numpy as np\n",
    "import matplotlib.pyplot as plt\n",
    "import matplotlib.ticker as ticker\n",
    "import os"
   ]
  },
  {
   "cell_type": "code",
   "execution_count": null,
   "metadata": {},
   "outputs": [],
   "source": [
    "#Setting the current working directory\n",
    "os.chdir(r'C:\\Users\\Cora Ryan\\Downloads\\Cross-Quantilogram-master')"
   ]
  },
  {
   "cell_type": "code",
   "execution_count": null,
   "metadata": {},
   "outputs": [],
   "source": [
    "#importing packages from Cross-Quantilogram folder\n",
    "from crossquantilogram import CrossQuantilogram as cq\n",
    "from stationarybootstrap import Bootstrap\n",
    "from utils import DescriptiveStatistics\n",
    "from qtests import LjungBoxQ\n",
    "from calculate import CQBS,CQBS_alphas,CQBS_years\n",
    "#from plot import heatmap_example,rolling_example"
   ]
  },
  {
   "cell_type": "code",
   "execution_count": null,
   "metadata": {},
   "outputs": [],
   "source": [
    "#Defining plotting function for cross-quantilograms\n",
    "\n",
    "def plot_cqs(data_1,data_2,lags=30,alpha=0.1):\n",
    "    fig,ax = plt.subplots(1,len(data_2.columns),figsize=(20,9))\n",
    "\n",
    "    for i in range(len(data_2.columns)):\n",
    "        dataset = CQBS(data1 = data_1,a1=alpha,data2 = data_2[data_2.columns[i]],a2=alpha,verbose=True,k=30)\n",
    "\n",
    "\n",
    "        xaxis=[str(x) for x in dataset.index]\n",
    "        ax[0].set_ylabel(\"Cross-Quantilogram\",fontsize=\"xx-large\",labelpad=0.1)\n",
    "        ax[i].set_xlabel(\"Lag\",fontsize=\"x-large\",labelpad=0.1)\n",
    "        ax[i].set_title(data_2.columns[i],fontsize=\"xx-large\")       \n",
    "        ax[i].tick_params(labelsize=\"large\")\n",
    "        ax[i].axhline(color=\"black\",linewidth=1)\n",
    "        ax[i].bar(xaxis,dataset[\"cq\"],width=0.2,color=\"blue\")\n",
    "        ax[i].plot(xaxis,dataset[\"cq_upper\"],color='red',linestyle=\"dashed\")\n",
    "        ax[i].plot(xaxis,dataset[\"cq_lower\"],color='red',linestyle=\"dashed\")\n",
    "        ax[i].xaxis.set_major_locator(ticker.MultipleLocator(2))\n",
    "        m = (abs(dataset[\"cq\"]).max()//0.05)*0.05+0.1\n",
    "        ax[i].set_ylim(-m,m)\n",
    "\n",
    "    fig.savefig(data_1.name + \"_cq_bar.png\",dpi=200,quality=95,bbox_inches=\"tight\")\n",
    "    plt.show()\n",
    "    \n",
    "def heatmap(data1,data2,picname=\"\",show=True,k=1):\n",
    "    alist = [0.05,0.1,0.15,0.2,0.25,0.3,0.35,0.4]\n",
    "    \n",
    "    dataset = CQBS_alphas(data1,alist,data2,alist,k,verbose=True)\n",
    "    data_mat=np.array([[d[\"cq\"] for d in row] for row in dataset])\n",
    "    data_txt=[[\"*\" if ((d[\"cq\"]>d[\"cq_upper\"] or d[\"cq\"]<d[\"cq_lower\"])and d[\"q\"]>d[\"qc\"])\\\n",
    "                else \"\" for d in row] for row in dataset]\n",
    "\n",
    "    fig, ax = plt.subplots(figsize=(4,5))\n",
    "    im = ax.imshow(data_mat, cmap=\"RdBu_r\",vmin=-0.1,vmax=0.1)\n",
    "    ax.set_ylabel(data1.name,fontsize=\"xx-large\",verticalalignment=\"center\",labelpad=10)\n",
    "    ax.set_xlabel(data2.name,fontsize=\"xx-large\",labelpad=35)\n",
    "    cbar = ax.figure.colorbar(im,ax=ax,fraction=0.046,pad=0.02,orientation=\"horizontal\",)\n",
    "    cbar.ax.tick_params(labelsize=\"large\")\n",
    "    cbar.ax.set_ylabel(\"\", rotation=-90, va=\"bottom\")\n",
    "    ax.set_xticks(np.arange(data_mat.shape[1]))\n",
    "    ax.set_yticks(np.arange(data_mat.shape[0]))\n",
    "    ax.set_yticklabels(alist,horizontalalignment=\"right\",fontsize=\"large\")\n",
    "    ax.set_xticklabels(alist,fontsize=\"large\")    \n",
    "    ax.tick_params(top=True, bottom=False,labeltop=True, labelbottom=False)                   \n",
    "    plt.setp(ax.get_xticklabels(), rotation=-60, ha=\"right\",rotation_mode=\"anchor\")        \n",
    "    ax.set_xticks(np.arange(data_mat.shape[1]+1)-.5, minor=True)\n",
    "    ax.set_yticks(np.arange(data_mat.shape[0]+1)-.5, minor=True)\n",
    "    ax.tick_params(which=\"minor\", bottom=False, left=False)\n",
    "\n",
    "    data = im.get_array()\n",
    "    valfmt=\"{x}\"\n",
    "    threshold = im.norm(data.max())/2.0\n",
    "    textcolors=[\"black\", \"white\"]\n",
    "    kw = dict(horizontalalignment=\"center\",verticalalignment=\"center\")              \n",
    "    valfmt = ticker.StrMethodFormatter(valfmt)\n",
    "\n",
    "    for i in range(data.shape[0]):\n",
    "        for j in range(data.shape[1]):\n",
    "            kw.update(color=textcolors[im.norm(data[i, j]) > threshold])\n",
    "            text = im.axes.text(j, i, valfmt(data_txt[i][j], None),fontsize=\"large\",**kw)\n",
    "\n",
    "    fig.tight_layout()\n",
    "    if picname:\n",
    "        fig.savefig(picname+\".png\",dpi=200,quality=95,bbox_inches=\"tight\")\n",
    "    if show:\n",
    "        print(picname+\":\")\n",
    "        plt.show()\n",
    "        \n",
    "def rolling_window(data1,data_2,alpha=0.1,picname=\"\",show=True,k=1):\n",
    "    fig,ax = plt.subplots(1,len(data_2.columns),figsize=(20,8))\n",
    "\n",
    "    for i in range(len(data_2.columns)):\n",
    "        dataset = CQBS_years(data1,alpha,data_2[data_2.columns[i]],alpha,verbose=True,k=k)\n",
    "        plt.subplots_adjust(wspace=0.3,hspace=0.5) \n",
    "        xaxis=[x for x in dataset.index]\n",
    "\n",
    "        ax[0].set_ylabel(\"Rolling\\nCross-Quantilogram\",fontsize=\"x-large\",labelpad=0.1)\n",
    "        ax[i].set_title(data_2.columns[i],fontsize=\"xx-large\")     \n",
    "        ax[i].tick_params(labelsize=\"large\")\n",
    "        ax[i].axhline(color=\"black\",linewidth=1)        \n",
    "        ax[i].plot(xaxis,dataset[\"cq_upper\"],\"rd--\",markersize=5,markerfacecolor=\"w\")\n",
    "        ax[i].plot(xaxis,dataset[\"cq_lower\"],\"rd--\",markersize=5,markerfacecolor=\"w\")\n",
    "        ax[i].plot(xaxis,dataset[\"cq\"],\"bo-\",markersize=4)\n",
    "        ax[i].xaxis.set_major_locator(ticker.MultipleLocator(2))\n",
    "        m = (max(abs(dataset[\"cq\"]).max(),abs(dataset[\"cq_upper\"]).max(),abs(dataset[\"cq_lower\"]).max())//0.05)*0.05+0.1\n",
    "        ax[i].set_ylim(-m,m)\n",
    "\n",
    "    fig.align_labels()\n",
    "\n",
    "    if picname:\n",
    "        fig.savefig(picname+\".png\",dpi=200,quality=95,bbox_inches=\"tight\")   \n",
    "    if show:\n",
    "        print(picname+\":\")\n",
    "        plt.show()"
   ]
  },
  {
   "cell_type": "code",
   "execution_count": null,
   "metadata": {},
   "outputs": [],
   "source": [
    "#Reading in the data\n",
    "#Cryptocurrencies\n",
    "btc = pd.read_csv(\"BTC-USD.csv\")\n",
    "eth = pd.read_csv(\"ETH-USD.csv\")\n",
    "xrp = pd.read_csv(\"XRP-USD.csv\")\n",
    "ltc = pd.read_csv(\"LTC-USD.csv\")\n",
    "xlm = pd.read_csv(\"XLM-USD.csv\")\n",
    "xmr = pd.read_csv(\"XMR-USD.csv\")\n",
    "dash = pd.read_csv(\"DASH-USD.csv\")\n",
    "xem = pd.read_csv(\"XEM-USD.csv\")\n",
    "\n",
    "#Indices\n",
    "ftse = pd.read_csv(\"FTSE 100 Historical Data.csv\")\n",
    "#changing the price datatype from object to float\n",
    "ftse[\"Price\"] = ftse[\"Price\"].str.replace(\",\",\"\").astype(\"float\")\n",
    "\n",
    "nkke = pd.read_csv(\"^N225.csv\")\n",
    "vix = pd.read_csv(\"^VIX.csv\")\n",
    "sp500 = pd.read_csv(\"^GSPC.csv\")"
   ]
  },
  {
   "cell_type": "code",
   "execution_count": null,
   "metadata": {},
   "outputs": [],
   "source": [
    "#Calculating log returns for each dataset (yahoo data)\n",
    "yahoo_data = [btc,eth,xrp,nkke,vix,sp500,ltc,xem,xlm,xmr,dash]\n",
    "yahoo_strs = [\"BTC\",\"ETH\",\"XRP\",\"Nikkei\",\"VIX\",\"SP500\",\"Litecoin\",\"NEM\",\"Stellar\",\"Monero\",\"Dash\"]\n",
    "for i in range(len(yahoo_data)):\n",
    "    yahoo_data[i].drop(columns=yahoo_data[i].columns[[1,2,3,4,-1]],inplace=True)\n",
    "    yahoo_data[i][\"Date\"] = pd.to_datetime(yahoo_data[i][\"Date\"],format=\"%Y%m%d\",infer_datetime_format=True)\n",
    "    yahoo_data[i].set_index('Date',inplace=True)\n",
    "    yahoo_data[i][yahoo_strs[i]] = 100*np.log(yahoo_data[i][\"Adj Close\"]).diff()\n",
    "    yahoo_data[i].dropna(inplace=True)\n",
    "    yahoo_data[i].drop(\"Adj Close\",axis=1,inplace=True)"
   ]
  },
  {
   "cell_type": "code",
   "execution_count": null,
   "metadata": {},
   "outputs": [],
   "source": [
    "#Calculating log returns for each dataset (investing.com data)\n",
    "inv_com_data = [ftse]\n",
    "inv_com_strs = [\"FTSE 100\"]\n",
    "for i in range(len(inv_com_data)):\n",
    "    inv_com_data[i].drop(columns=inv_com_data[i].columns[2:],inplace=True)\n",
    "    inv_com_data[i][\"Date\"] = pd.to_datetime(inv_com_data[i][\"Date\"],format=\"%Y%m%d\",infer_datetime_format=True)\n",
    "    inv_com_data[i].set_index('Date',inplace=True)\n",
    "    inv_com_data[i][inv_com_strs[i]] = 100*np.log(inv_com_data[i][\"Price\"]).diff()\n",
    "    inv_com_data[i].dropna(inplace=True)\n",
    "    inv_com_data[i].drop(\"Price\",axis=1,inplace=True)"
   ]
  },
  {
   "cell_type": "code",
   "execution_count": null,
   "metadata": {},
   "outputs": [],
   "source": [
    "all_df = pd.concat([btc,eth,xrp,vix,dash,xem,xlm,xmr,ltc,sp500,ftse,nkke],axis=1)\n",
    "all_df.dropna(inplace=True)\n",
    "all_df.columns"
   ]
  },
  {
   "cell_type": "code",
   "execution_count": null,
   "metadata": {},
   "outputs": [],
   "source": [
    "safe_df = all_df.loc[:,[\"BTC\",\"ETH\",\"XRP\",\"Litecoin\",\"NEM\",\"Stellar\",\"Monero\",\"Dash\"]].copy()\n",
    "safe_df.head()"
   ]
  },
  {
   "cell_type": "code",
   "execution_count": null,
   "metadata": {},
   "outputs": [],
   "source": [
    "index_df = all_df.loc[:,[\"SP500\",\"FTSE 100\",\"Nikkei\"]].copy()\n",
    "index_df.head()"
   ]
  },
  {
   "cell_type": "code",
   "execution_count": null,
   "metadata": {},
   "outputs": [],
   "source": [
    "#Getting Descriptive Statistics for variables\n",
    "\n",
    "ovr_stats_dicts = []\n",
    "for i in all_df.columns:\n",
    "    x = DescriptiveStatistics(all_df[i],10)\n",
    "    ovr_stats_dicts.append(x)\n",
    "\n",
    "ovr_des_stats = []\n",
    "for i in ovr_stats_dicts:\n",
    "    x = []\n",
    "    for key in i.keys():\n",
    "        x.append(i[key])\n",
    "    ovr_des_stats.append(x)\n",
    "\n",
    "#create a dataframe for descriptive stats (index)\n",
    "ovr_stats_df = DataFrame(ovr_des_stats,index=all_df.columns,columns=i.keys())\n",
    "ovr_stats_df.adfs = ovr_stats_df.adfs.round(2)\n",
    "#ovr_stats_df.to_excel(\"Overall Descriptive Statistics.xlsx\")"
   ]
  },
  {
   "cell_type": "code",
   "execution_count": null,
   "metadata": {},
   "outputs": [],
   "source": [
    "#Plotting Heatmaps of CQs\n",
    "lags = [1,5,10]\n",
    "for lag in lags:\n",
    "    for i in safe_df.columns:\n",
    "        for j in index_df.columns:\n",
    "            heatmap(safe_df[i],index_df[j],picname=(\"Heatmap \" + i + \"_\" + j + \" k = \" + str(lag)),k=lag)"
   ]
  },
  {
   "cell_type": "code",
   "execution_count": null,
   "metadata": {},
   "outputs": [],
   "source": [
    "#Plotting the cross-quantilograms for each potential \"safe-asset\" against our indices\n",
    "lag = 1\n",
    "for i in safe_df.columns:\n",
    "    rolling_window(safe_df[i],index_df,k=lag,picname=(\"Rolling Window \" + i  + \" k = \" + str(lag)))"
   ]
  }
 ],
 "metadata": {
  "kernelspec": {
   "display_name": "Python 3 (ipykernel)",
   "language": "python",
   "name": "python3"
  },
  "language_info": {
   "codemirror_mode": {
    "name": "ipython",
    "version": 3
   },
   "file_extension": ".py",
   "mimetype": "text/x-python",
   "name": "python",
   "nbconvert_exporter": "python",
   "pygments_lexer": "ipython3",
   "version": "3.12.4"
  }
 },
 "nbformat": 4,
 "nbformat_minor": 4
}
